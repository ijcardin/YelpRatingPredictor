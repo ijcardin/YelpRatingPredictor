{
 "cells": [
  {
   "cell_type": "code",
   "execution_count": 1,
   "metadata": {},
   "outputs": [
    {
     "name": "stderr",
     "output_type": "stream",
     "text": [
      "INFO:sparkhpc.sparkjob:Submitted batch job 633575\n",
      "\n",
      "INFO:sparkhpc.sparkjob:Submitted cluster 0\n"
     ]
    }
   ],
   "source": [
    "import os\n",
    "import atexit\n",
    "import sys\n",
    "\n",
    "import pyspark\n",
    "from pyspark.context import SparkContext\n",
    "from pyspark.sql import SQLContext\n",
    "import findspark\n",
    "from sparkhpc import sparkjob\n",
    "\n",
    "#Exit handler to clean up the Spark cluster if the script exits or crashes\n",
    "def exitHandler(sj,sc):\n",
    "    try:\n",
    "        print('Trapped Exit cleaning up Spark Context')\n",
    "        sc.stop()\n",
    "    except:\n",
    "        pass\n",
    "    try:\n",
    "        print('Trapped Exit cleaning up Spark Job')\n",
    "        sj.stop()\n",
    "    except:\n",
    "        pass\n",
    "\n",
    "findspark.init()\n",
    "\n",
    "#Parameters for the Spark cluster\n",
    "nodes=3\n",
    "tasks_per_node=8 \n",
    "memory_per_task=1024 #1 gig per process, adjust accordingly\n",
    "# Please estimate walltime carefully to keep unused Spark clusters from sitting \n",
    "# idle so that others may use the resources.\n",
    "walltime=\"1:00\" #1 hour\n",
    "os.environ['SBATCH_PARTITION']='breezy' #Set the appropriate ARC partition\n",
    "\n",
    "sj = sparkjob.sparkjob(\n",
    "     ncores=nodes*tasks_per_node,\n",
    "     cores_per_executor=tasks_per_node,\n",
    "     memory_per_core=memory_per_task,\n",
    "     walltime=walltime\n",
    "    )\n",
    "\n",
    "sj.wait_to_start()\n",
    "sc = sj.start_spark()\n",
    "\n",
    "#Register the exit handler                                                                                                     \n",
    "atexit.register(exitHandler,sj,sc)\n",
    "\n",
    "#You need this line if you want to use SparkSQL\n",
    "sqlCtx=SQLContext(sc)"
   ]
  },
  {
   "cell_type": "code",
   "execution_count": null,
   "metadata": {},
   "outputs": [],
   "source": []
  },
  {
   "cell_type": "code",
   "execution_count": 2,
   "metadata": {},
   "outputs": [],
   "source": [
    "data = sc.textFile('yelp.json')\n",
    "new_data = data.filter(lambda x: x.isascii())"
   ]
  },
  {
   "cell_type": "code",
   "execution_count": 4,
   "metadata": {},
   "outputs": [],
   "source": [
    "first = new_data.first()\n",
    "df = new_data.filter(lambda x: x!=first)"
   ]
  },
  {
   "cell_type": "code",
   "execution_count": 6,
   "metadata": {},
   "outputs": [],
   "source": [
    "df = df.filter(lambda x: x.startswith('{\"business_id\"'))"
   ]
  },
  {
   "cell_type": "code",
   "execution_count": 10,
   "metadata": {},
   "outputs": [],
   "source": [
    "# write your string to a file\n",
    "with open(\"yelp_cleaned_new.txt\", \"w\") as f:\n",
    "    for line in df.collect():\n",
    "        f.write((line+'\\n'))"
   ]
  },
  {
   "cell_type": "code",
   "execution_count": 3,
   "metadata": {},
   "outputs": [],
   "source": [
    "import json\n",
    "# map jsons back to string\n",
    "jsonRDD = new_data.map(json.dumps)\n",
    "\n",
    "# reduce to one big string with one json on each line\n",
    "json_string = jsonRDD.map(lambda x: x + \"\\n\")"
   ]
  },
  {
   "cell_type": "code",
   "execution_count": null,
   "metadata": {},
   "outputs": [],
   "source": [
    "import json\n",
    "# map jsons back to string\n",
    "jsonRDD = new_data.map(json.dumps)\n",
    "\n",
    "# reduce to one big string with one json on each line\n",
    "json_string = jsonRDD.reduce(lambda x, y: x + \"\\n\" + y)\n",
    "\n",
    "# # write your string to a file\n",
    "# with open(\"yelp_cleaned.json\", \"w\") as f:\n",
    "#     f.write(json_string.encode(\"utf-8\"))"
   ]
  },
  {
   "cell_type": "code",
   "execution_count": 5,
   "metadata": {},
   "outputs": [],
   "source": [
    "json_string.coalesce(1).saveAsTextFile('YELP-CLEAN')"
   ]
  },
  {
   "cell_type": "code",
   "execution_count": 9,
   "metadata": {},
   "outputs": [
    {
     "data": {
      "text/plain": [
       "['{\"business_id\":\"QXAEGFB4oINsVuTFxEYKFQ\",\"name\":\"Emerald Chinese Restaurant\",\"address\":\"30 Eglinton Avenue W\",\"city\":\"Mississauga\",\"state\":\"ON\",\"postal_code\":\"L5R 3E7\",\"latitude\":43.6054989743,\"longitude\":-79.652288909,\"stars\":2.5,\"review_count\":128,\"is_open\":1,\"attributes\":{\"RestaurantsReservations\":\"True\",\"GoodForMeal\":\"{\\'dessert\\': False, \\'latenight\\': False, \\'lunch\\': True, \\'dinner\\': True, \\'brunch\\': False, \\'breakfast\\': False}\",\"BusinessParking\":\"{\\'garage\\': False, \\'street\\': False, \\'validated\\': False, \\'lot\\': True, \\'valet\\': False}\",\"Caters\":\"True\",\"NoiseLevel\":\"u\\'loud\\'\",\"RestaurantsTableService\":\"True\",\"RestaurantsTakeOut\":\"True\",\"RestaurantsPriceRange2\":\"2\",\"OutdoorSeating\":\"False\",\"BikeParking\":\"False\",\"Ambience\":\"{\\'romantic\\': False, \\'intimate\\': False, \\'classy\\': False, \\'hipster\\': False, \\'divey\\': False, \\'touristy\\': False, \\'trendy\\': False, \\'upscale\\': False, \\'casual\\': True}\",\"HasTV\":\"False\",\"WiFi\":\"u\\'no\\'\",\"GoodForKids\":\"True\",\"Alcohol\":\"u\\'full_bar\\'\",\"RestaurantsAttire\":\"u\\'casual\\'\",\"RestaurantsGoodForGroups\":\"True\",\"RestaurantsDelivery\":\"False\"},\"categories\":\"Specialty Food, Restaurants, Dim Sum, Imported Food, Food, Chinese, Ethnic Food, Seafood\",\"hours\":{\"Monday\":\"9:0-0:0\",\"Tuesday\":\"9:0-0:0\",\"Wednesday\":\"9:0-0:0\",\"Thursday\":\"9:0-0:0\",\"Friday\":\"9:0-1:0\",\"Saturday\":\"9:0-1:0\",\"Sunday\":\"9:0-0:0\"}}',\n",
       " '{\"business_id\":\"gnKjwL_1w79qoiV3IC_xQQ\",\"name\":\"Musashi Japanese Restaurant\",\"address\":\"10110 Johnston Rd, Ste 15\",\"city\":\"Charlotte\",\"state\":\"NC\",\"postal_code\":\"28210\",\"latitude\":35.092564,\"longitude\":-80.859132,\"stars\":4.0,\"review_count\":170,\"is_open\":1,\"attributes\":{\"GoodForKids\":\"True\",\"NoiseLevel\":\"u\\'average\\'\",\"RestaurantsDelivery\":\"False\",\"GoodForMeal\":\"{\\'dessert\\': False, \\'latenight\\': False, \\'lunch\\': True, \\'dinner\\': True, \\'brunch\\': False, \\'breakfast\\': False}\",\"Alcohol\":\"u\\'beer_and_wine\\'\",\"Caters\":\"False\",\"WiFi\":\"u\\'no\\'\",\"RestaurantsTakeOut\":\"True\",\"BusinessAcceptsCreditCards\":\"True\",\"Ambience\":\"{\\'romantic\\': False, \\'intimate\\': False, \\'touristy\\': False, \\'hipster\\': False, \\'divey\\': False, \\'classy\\': False, \\'trendy\\': False, \\'upscale\\': False, \\'casual\\': True}\",\"BusinessParking\":\"{\\'garage\\': False, \\'street\\': False, \\'validated\\': False, \\'lot\\': True, \\'valet\\': False}\",\"RestaurantsTableService\":\"True\",\"RestaurantsGoodForGroups\":\"True\",\"OutdoorSeating\":\"False\",\"HasTV\":\"True\",\"BikeParking\":\"True\",\"RestaurantsReservations\":\"True\",\"RestaurantsPriceRange2\":\"2\",\"RestaurantsAttire\":\"\\'casual\\'\"},\"categories\":\"Sushi Bars, Restaurants, Japanese\",\"hours\":{\"Monday\":\"17:30-21:30\",\"Wednesday\":\"17:30-21:30\",\"Thursday\":\"17:30-21:30\",\"Friday\":\"17:30-22:0\",\"Saturday\":\"17:30-22:0\",\"Sunday\":\"17:30-21:0\"}}',\n",
       " '{\"business_id\":\"xvX2CttrVhyG2z1dFg_0xw\",\"name\":\"Farmers Insurance - Paul Lorenz\",\"address\":\"15655 W Roosevelt St, Ste 237\",\"city\":\"Goodyear\",\"state\":\"AZ\",\"postal_code\":\"85338\",\"latitude\":33.4556129678,\"longitude\":-112.3955963552,\"stars\":5.0,\"review_count\":3,\"is_open\":1,\"attributes\":null,\"categories\":\"Insurance, Financial Services\",\"hours\":{\"Monday\":\"8:0-17:0\",\"Tuesday\":\"8:0-17:0\",\"Wednesday\":\"8:0-17:0\",\"Thursday\":\"8:0-17:0\",\"Friday\":\"8:0-17:0\"}}']"
      ]
     },
     "execution_count": 9,
     "metadata": {},
     "output_type": "execute_result"
    }
   ],
   "source": [
    "df.take(3)"
   ]
  },
  {
   "cell_type": "code",
   "execution_count": null,
   "metadata": {},
   "outputs": [],
   "source": []
  }
 ],
 "metadata": {
  "kernelspec": {
   "display_name": "Python 3",
   "language": "python",
   "name": "python3"
  },
  "language_info": {
   "codemirror_mode": {
    "name": "ipython",
    "version": 3
   },
   "file_extension": ".py",
   "mimetype": "text/x-python",
   "name": "python",
   "nbconvert_exporter": "python",
   "pygments_lexer": "ipython3",
   "version": "3.7.0"
  }
 },
 "nbformat": 4,
 "nbformat_minor": 2
}
